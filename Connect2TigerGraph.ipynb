{
  "nbformat": 4,
  "nbformat_minor": 0,
  "metadata": {
    "colab": {
      "name": "Connect2TigerGraph.ipynb",
      "provenance": [],
      "toc_visible": true,
      "include_colab_link": true
    },
    "kernelspec": {
      "name": "python3",
      "display_name": "Python 3"
    }
  },
  "cells": [
    {
      "cell_type": "markdown",
      "metadata": {
        "id": "view-in-github",
        "colab_type": "text"
      },
      "source": [
        "<a href=\"https://colab.research.google.com/github/futuristacademy/project-list/blob/master/Connect2TigerGraph.ipynb\" target=\"_parent\"><img src=\"https://colab.research.google.com/assets/colab-badge.svg\" alt=\"Open In Colab\"/></a>"
      ]
    },
    {
      "cell_type": "markdown",
      "metadata": {
        "id": "hmoxbXjvC6fM",
        "colab_type": "text"
      },
      "source": [
        "<p><img alt=\"TigerGraph logo\" height=\"45px\" src=\"https://blobscdn.gitbook.com/v0/b/gitbook-28427.appspot.com/o/spaces%2F-LHvjxIN4__6bA0T-QmU%2Favatar.png?generation=1532158270801864&amp;alt=media\" align=\"left\" hspace=\"10px\" vspace=\"0px\"></p>\n",
        "\n",
        "# Connect 2 TigerGraph\n",
        "----\n",
        "\n",
        "This notebook is designed to help you establish your first connection with a TigerGraph database. If this is your first time here and you haven't provisioned or built a TigerGraph database, I would suggest you use [this blog](https://medium.com/@jon.herke/deploy-a-graph-database-in-3-steps-no-code-need-d903bd062dae) to help you get your first database built in a matter of minutes.\n",
        "\n",
        "**What you will have accomplished?**\n",
        "\n",
        "- You will have used pyTigerGraph a python package that interfaces with TigerGraph\n",
        "- You will have used a \"SECRET\" to generate a \"TOKEN\" to use in the plaground\n",
        "- You will have used your \"TOKEN\" to make a call to grab all built-in REST endpoints \n",
        "----\n"
      ]
    },
    {
      "cell_type": "markdown",
      "metadata": {
        "id": "LoZgrWHMC9HD",
        "colab_type": "text"
      },
      "source": [
        "## Setup Your Notebook\n",
        "\n",
        "Before we can get to the \"FUN\" stuff we must first do a few things to get our notebook setup. Those includes **installing & importing** a few tools that will be used. \n",
        "\n",
        "*A fun fact:* pyTigerGraph was written by a college student at the Unviersity of Minnesota. Show him some [Love](https://github.com/parkererickson/pyTigerGraph/tree/master/pyTigerGraph)"
      ]
    },
    {
      "cell_type": "code",
      "metadata": {
        "id": "uOFa7MzDesi4",
        "colab_type": "code",
        "colab": {}
      },
      "source": [
        "!pip install pyTigerGraph"
      ],
      "execution_count": 0,
      "outputs": []
    },
    {
      "cell_type": "code",
      "metadata": {
        "id": "GDV73ZM90Az5",
        "colab_type": "code",
        "colab": {}
      },
      "source": [
        "import pyTigerGraph as tg"
      ],
      "execution_count": 0,
      "outputs": []
    },
    {
      "cell_type": "markdown",
      "metadata": {
        "id": "a5ZBXEuc6_wk",
        "colab_type": "text"
      },
      "source": [
        "## Grab a New Token\n",
        "\n",
        "TigerGraph has numerous [built-in REST endpoints](https://docs.tigergraph.com/dev/restpp-api/built-in-endpoints) including the abilty to create TOKENS. For a complete list with the details or each of those endpoints I would suggest checking out the documentaion at [docs.tigergraph.com](https://docs.tigergraph.com/dev/restpp-api/built-in-endpoints)\n",
        "\n",
        "**Step 1)** We will add the appropriate details about your graph as shown in the code below\n",
        "- IP Address: Your DNS without port should be placed between the quotes `ipAddress=\"https://graphml.i.tgcloud.io\"`\n",
        "- Graphname: Your graph name should be placed between the quotes `graphname=\"Recommender\"`\n",
        "- Secret: Your secret will be placed in between the quotes `graph.getToken(\"r5lm9gilolgjn6ppdb3ru9r6l05smqqv\", \"1000000\")`\n",
        "\n",
        "**Step 2)** Let's run that code block\n",
        "\n",
        "*If Successful you will see something like* `{'code': 'REST-0000', 'expiration': 1580904294, 'error': False, 'message': 'Generate new token successfully.', 'token': 'dv36b0lhod7t4k4i1r2qqbqhrpgemn7j'}`\n",
        "\n"
      ]
    },
    {
      "cell_type": "code",
      "metadata": {
        "id": "ET5bur0j6Yi4",
        "colab_type": "code",
        "outputId": "4796f350-0dc9-49a3-b4fe-006129695dfc",
        "colab": {
          "base_uri": "https://localhost:8080/",
          "height": 34
        }
      },
      "source": [
        "graph = tg.TigerGraphConnection(\n",
        "    ipAddress=\"https://covid19.i.tgcloud.io\", \n",
        "    graphname=\"MyGraph\")\n",
        "\n",
        "authToken = graph.getToken(\"74erdg4f3rq7ov0fvpd7ibdj5sm6cu6c\", \"100000000000000000\")\n",
        "print(authToken)"
      ],
      "execution_count": 0,
      "outputs": [
        {
          "output_type": "stream",
          "text": [
            "{'code': 'REST-0000', 'expiration': 100000001583887741, 'error': False, 'message': 'Generate new token successfully.', 'token': 'jmu6hq2sr00mm1v825u2dic3kt18sqqc'}\n"
          ],
          "name": "stdout"
        }
      ]
    },
    {
      "cell_type": "markdown",
      "metadata": {
        "id": "Box3Obo0DEUj",
        "colab_type": "text"
      },
      "source": [
        "## Call you First Endpoint\n",
        "\n",
        "Well, \"technically\" this isn't your first endpoint you will hit, but it will be the first endpoint you hit with your token. Essentially this will test the token by grabbing all REST endpoints.\n",
        "\n",
        "**Step 1)** We will add the appropriate details about your graph as shown in the code below\n",
        "\n",
        "- IP Address: Your DNS without port should be placed between the quotes `ipAddress=\"https://graphml.i.tgcloud.io\"`\n",
        "\n",
        "- graphname: Your graph name should be placed between the quotes `graphname=\"Recommender\"`\n",
        "\n",
        "- apiToken: Your secret will be placed in between the quotes `graph.getTokenapiToken=\"bekr9ls24mlh4kbkd7g28stq8vpj67vi\"`\n",
        "\n",
        "**Step 2)** Let's run that code block\n",
        "\n",
        "*If Successful you will see something like* `{'DELETE /graph/delete_by_type/vertices/{vertex_type}/': {'parameters': {'ack': {'default': 'all', 'max_count': 1`"
      ]
    },
    {
      "cell_type": "code",
      "metadata": {
        "colab_type": "code",
        "id": "3AFAAdRl6rbJ",
        "outputId": "c8de779a-ff5f-4218-fe69-4a9ff02046d5",
        "colab": {
          "base_uri": "https://localhost:8080/",
          "height": 54
        }
      },
      "source": [
        "graph = tg.TigerGraphConnection(\n",
        "    ipAddress=\"https://covid19.i.tgcloud.io\", \n",
        "    graphname=\"MyGraph\", \n",
        "    apiToken=\"o4ib762mnvh26ih9ua2lb23ojvsb7toi\")\n",
        "\n",
        "results = graph.getEndpoints()\n",
        "print(results)\n"
      ],
      "execution_count": 0,
      "outputs": [
        {
          "output_type": "stream",
          "text": [
            "{'DELETE /graph/delete_by_type/vertices/{vertex_type}/': {'parameters': {'ack': {'default': 'all', 'max_count': 1, 'min_count': 1, 'options': ['all', 'none'], 'type': 'STRING'}, 'permanent': {'default': 'false', 'max_count': 1, 'min_count': 1, 'type': 'BOOL'}, 'vertex_type': {'type': 'TYPENAME'}}}, 'DELETE /graph/edges/{source_vertex_type}/{source_vertex_id}/{edge_type}/{target_vertex_type}/{target_vertex_id}': {'parameters': {'edge_type': {'max_count': 1, 'min_count': 0, 'type': 'EDGETYPENAME'}, 'filter': {'max_count': 1, 'max_length': 2560, 'min_count': 0, 'type': 'STRING'}, 'limit': {'max_count': 1, 'min_count': 0, 'type': 'UINT64'}, 'not_wildcard': {'max_count': 1, 'min_count': 0, 'type': 'BOOL'}, 'permanent': {'default': 'false', 'max_count': 1, 'min_count': 1, 'type': 'BOOL'}, 'select': {'max_count': 1, 'max_length': 2560, 'min_count': 0, 'type': 'STRING'}, 'sort': {'max_count': 1, 'max_length': 2560, 'min_count': 0, 'type': 'STRING'}, 'source_vertex_id': {'id_type': '$source_vertex_type', 'is_id': True, 'max_count': 1, 'max_length': 256, 'min_count': 1, 'type': 'STRING'}, 'source_vertex_type': {'max_count': 1, 'min_count': 1, 'type': 'TYPENAME'}, 'target_vertex_id': {'id_type': '$target_vertex_type', 'is_id': True, 'max_count': 1, 'max_length': 256, 'min_count': 0, 'type': 'STRING'}, 'target_vertex_type': {'max_count': 1, 'min_count': 0, 'type': 'TYPENAME'}, 'timeout': {'default': '0', 'max_count': 1, 'min_count': 0, 'type': 'UINT32'}}}, 'DELETE /graph/vertices/{vertex_type}/{vertex_id}': {'parameters': {'filter': {'max_count': 1, 'max_length': 2560, 'min_count': 0, 'type': 'STRING'}, 'limit': {'max_count': 1, 'min_count': 0, 'type': 'UINT64'}, 'permanent': {'default': 'false', 'max_count': 1, 'min_count': 1, 'type': 'BOOL'}, 'sort': {'max_count': 1, 'max_length': 2560, 'min_count': 0, 'type': 'STRING'}, 'timeout': {'default': '0', 'max_count': 1, 'min_count': 0, 'type': 'UINT32'}, 'vertex_id': {'id_type': '$vertex_type', 'is_id': True, 'max_count': 1, 'max_length': 2560, 'min_count': 0, 'type': 'STRING'}, 'vertex_type': {'type': 'TYPENAME'}}}, 'DELETE /graph/{graph_name}/delete_by_type/vertices/{vertex_type}/': {'parameters': {'ack': {'default': 'all', 'max_count': 1, 'min_count': 1, 'options': ['all', 'none'], 'type': 'STRING'}, 'graph_name': {'default': '', 'max_count': 1, 'min_count': 0, 'type': 'STRING'}, 'permanent': {'default': 'false', 'max_count': 1, 'min_count': 1, 'type': 'BOOL'}, 'vertex_type': {'type': 'TYPENAME'}}}, 'DELETE /graph/{graph_name}/edges/{source_vertex_type}/{source_vertex_id}/{edge_type}/{target_vertex_type}/{target_vertex_id}': {'parameters': {'edge_type': {'max_count': 1, 'min_count': 0, 'type': 'EDGETYPENAME'}, 'filter': {'max_count': 1, 'max_length': 2560, 'min_count': 0, 'type': 'STRING'}, 'graph_name': {'default': '', 'max_count': 1, 'min_count': 0, 'type': 'STRING'}, 'limit': {'max_count': 1, 'min_count': 0, 'type': 'UINT64'}, 'not_wildcard': {'max_count': 1, 'min_count': 0, 'type': 'BOOL'}, 'permanent': {'default': 'false', 'max_count': 1, 'min_count': 1, 'type': 'BOOL'}, 'select': {'max_count': 1, 'max_length': 2560, 'min_count': 0, 'type': 'STRING'}, 'sort': {'max_count': 1, 'max_length': 2560, 'min_count': 0, 'type': 'STRING'}, 'source_vertex_id': {'id_type': '$source_vertex_type', 'is_id': True, 'max_count': 1, 'max_length': 256, 'min_count': 1, 'type': 'STRING'}, 'source_vertex_type': {'max_count': 1, 'min_count': 1, 'type': 'TYPENAME'}, 'target_vertex_id': {'id_type': '$target_vertex_type', 'is_id': True, 'max_count': 1, 'max_length': 256, 'min_count': 0, 'type': 'STRING'}, 'target_vertex_type': {'max_count': 1, 'min_count': 0, 'type': 'TYPENAME'}, 'timeout': {'default': '0', 'max_count': 1, 'min_count': 0, 'type': 'UINT32'}}}, 'DELETE /graph/{graph_name}/vertices/{vertex_type}/{vertex_id}': {'parameters': {'filter': {'max_count': 1, 'max_length': 2560, 'min_count': 0, 'type': 'STRING'}, 'graph_name': {'default': '', 'max_count': 1, 'min_count': 0, 'type': 'STRING'}, 'limit': {'max_count': 1, 'min_count': 0, 'type': 'UINT64'}, 'permanent': {'default': 'false', 'max_count': 1, 'min_count': 1, 'type': 'BOOL'}, 'sort': {'max_count': 1, 'max_length': 2560, 'min_count': 0, 'type': 'STRING'}, 'timeout': {'default': '0', 'max_count': 1, 'min_count': 0, 'type': 'UINT32'}, 'vertex_id': {'id_type': '$vertex_type', 'is_id': True, 'max_count': 1, 'max_length': 2560, 'min_count': 0, 'type': 'STRING'}, 'vertex_type': {'type': 'TYPENAME'}}}, 'GET /abortquery/{graph_name}': {'parameters': {'graph_name': {'default': '', 'max_count': 1, 'min_count': 0, 'type': 'STRING'}, 'requestid': {'min_count': 0, 'type': 'STRING'}}}, 'GET /allpaths/{graph_name}': {'parameters': {'graph_name': {'default': '', 'max_count': 1, 'min_count': 0, 'type': 'STRING'}}}, 'GET /echo/{graph_name}': {'parameters': {'graph_name': {'default': '', 'max_count': 1, 'min_count': 0, 'type': 'STRING'}, 'sleep': {'default': '0', 'type': 'INT32'}}}, 'GET /endpoints/{graph_name}': {'parameters': {'builtin': {'default': 'false', 'max_count': 1, 'min_count': 0, 'type': 'BOOL'}, 'dynamic': {'default': 'false', 'max_count': 1, 'min_count': 0, 'type': 'BOOL'}, 'graph_name': {'default': '', 'max_count': 1, 'min_count': 0, 'type': 'STRING'}, 'static': {'default': 'false', 'max_count': 1, 'min_count': 0, 'type': 'BOOL'}}}, 'GET /graph/edges/{source_vertex_type}/{source_vertex_id}/{edge_type}/{target_vertex_type}/{target_vertex_id}': {'parameters': {'count_only': {'default': 'false', 'max_count': 1, 'min_count': 0, 'type': 'BOOL'}, 'edge_type': {'max_count': 1, 'min_count': 0, 'type': 'EDGETYPENAME'}, 'filter': {'max_count': 1, 'max_length': 2560, 'min_count': 0, 'type': 'STRING'}, 'limit': {'max_count': 1, 'min_count': 0, 'type': 'UINT64'}, 'not_wildcard': {'max_count': 1, 'min_count': 0, 'type': 'BOOL'}, 'select': {'max_count': 1, 'max_length': 2560, 'min_count': 0, 'type': 'STRING'}, 'sort': {'max_count': 1, 'max_length': 2560, 'min_count': 0, 'type': 'STRING'}, 'source_vertex_id': {'id_type': '$source_vertex_type', 'is_id': True, 'max_count': 1, 'max_length': 256, 'min_count': 1, 'type': 'STRING'}, 'source_vertex_type': {'max_count': 1, 'min_count': 1, 'type': 'TYPENAME'}, 'target_vertex_id': {'id_type': '$target_vertex_type', 'is_id': True, 'max_count': 1, 'max_length': 256, 'min_count': 0, 'type': 'STRING'}, 'target_vertex_type': {'max_count': 1, 'min_count': 0, 'type': 'TYPENAME'}, 'timeout': {'default': '0', 'max_count': 1, 'min_count': 0, 'type': 'UINT32'}}}, 'GET /graph/vertices/{vertex_type}/{vertex_id}': {'parameters': {'count_only': {'default': 'false', 'max_count': 1, 'min_count': 0, 'type': 'BOOL'}, 'filter': {'max_count': 1, 'max_length': 2560, 'min_count': 0, 'type': 'STRING'}, 'limit': {'max_count': 1, 'min_count': 0, 'type': 'UINT64'}, 'select': {'max_count': 1, 'max_length': 2560, 'min_count': 0, 'type': 'STRING'}, 'sort': {'max_count': 1, 'max_length': 2560, 'min_count': 0, 'type': 'STRING'}, 'timeout': {'default': '0', 'max_count': 1, 'min_count': 0, 'type': 'UINT32'}, 'vertex_id': {'id_type': '$vertex_type', 'is_id': True, 'max_count': 1, 'max_length': 2560, 'min_count': 0, 'type': 'STRING'}, 'vertex_type': {'type': 'TYPENAME'}}}, 'GET /graph/{graph_name}/edges/{source_vertex_type}/{source_vertex_id}/{edge_type}/{target_vertex_type}/{target_vertex_id}': {'parameters': {'count_only': {'default': 'false', 'max_count': 1, 'min_count': 0, 'type': 'BOOL'}, 'edge_type': {'max_count': 1, 'min_count': 0, 'type': 'EDGETYPENAME'}, 'filter': {'max_count': 1, 'max_length': 2560, 'min_count': 0, 'type': 'STRING'}, 'graph_name': {'default': '', 'max_count': 1, 'min_count': 0, 'type': 'STRING'}, 'limit': {'max_count': 1, 'min_count': 0, 'type': 'UINT64'}, 'not_wildcard': {'max_count': 1, 'min_count': 0, 'type': 'BOOL'}, 'select': {'max_count': 1, 'max_length': 2560, 'min_count': 0, 'type': 'STRING'}, 'sort': {'max_count': 1, 'max_length': 2560, 'min_count': 0, 'type': 'STRING'}, 'source_vertex_id': {'id_type': '$source_vertex_type', 'is_id': True, 'max_count': 1, 'max_length': 256, 'min_count': 1, 'type': 'STRING'}, 'source_vertex_type': {'max_count': 1, 'min_count': 1, 'type': 'TYPENAME'}, 'target_vertex_id': {'id_type': '$target_vertex_type', 'is_id': True, 'max_count': 1, 'max_length': 256, 'min_count': 0, 'type': 'STRING'}, 'target_vertex_type': {'max_count': 1, 'min_count': 0, 'type': 'TYPENAME'}, 'timeout': {'default': '0', 'max_count': 1, 'min_count': 0, 'type': 'UINT32'}}}, 'GET /graph/{graph_name}/vertices/{vertex_type}/{vertex_id}': {'parameters': {'count_only': {'default': 'false', 'max_count': 1, 'min_count': 0, 'type': 'BOOL'}, 'filter': {'max_count': 1, 'max_length': 2560, 'min_count': 0, 'type': 'STRING'}, 'graph_name': {'default': '', 'max_count': 1, 'min_count': 0, 'type': 'STRING'}, 'limit': {'max_count': 1, 'min_count': 0, 'type': 'UINT64'}, 'select': {'max_count': 1, 'max_length': 2560, 'min_count': 0, 'type': 'STRING'}, 'sort': {'max_count': 1, 'max_length': 2560, 'min_count': 0, 'type': 'STRING'}, 'timeout': {'default': '0', 'max_count': 1, 'min_count': 0, 'type': 'UINT32'}, 'vertex_id': {'id_type': '$vertex_type', 'is_id': True, 'max_count': 1, 'max_length': 2560, 'min_count': 0, 'type': 'STRING'}, 'vertex_type': {'type': 'TYPENAME'}}}, 'GET /rebuildnow/{graph_name}': {'parameters': {'graph_name': {'default': '', 'max_count': 1, 'min_count': 0, 'type': 'STRING'}, 'path': {'default': '/tmp/rebuildnow', 'max_count': 1, 'min_count': 0, 'type': 'STRING'}, 'segid': {'min_count': 0, 'type': 'UINT32'}, 'threadnum': {'default': '0', 'max_count': 1, 'min_count': 0, 'type': 'UINT32'}, 'vertextype': {'max_count': 1, 'min_count': 0, 'type': 'TYPENAME'}}}, 'GET /shortestpath/{graph_name}': {'parameters': {'graph_name': {'default': '', 'max_count': 1, 'min_count': 0, 'type': 'STRING'}}}, 'GET /showlicenseinfo/{graph_name}': {'parameters': {'graph_name': {'default': '', 'max_count': 1, 'min_count': 0, 'type': 'STRING'}}}, 'GET /showprocesslist/{graph_name}': {'parameters': {'graph_name': {'default': '', 'max_count': 1, 'min_count': 0, 'type': 'STRING'}}}, 'GET /statistics/{graph_name}': {'parameters': {'graph_name': {'default': '', 'max_count': 1, 'min_count': 0, 'type': 'STRING'}, 'seconds': {'default': '10', 'type': 'UINT32'}, 'segments': {'default': '10', 'max': '100', 'min': '1', 'type': 'UINT32'}}}, 'GET /version/{graph_name}': {'parameters': {'graph_name': {'default': '', 'max_count': 1, 'min_count': 0, 'type': 'STRING'}}}, 'POST /abortquery/{graph_name}': {'parameters': {'graph_name': {'default': '', 'max_count': 1, 'min_count': 0, 'type': 'STRING'}, 'requestid': {'min_count': 0, 'type': 'STRING'}}}, 'POST /allpaths/{graph_name}': {'parameters': {'graph_name': {'default': '', 'max_count': 1, 'min_count': 0, 'type': 'STRING'}}}, 'POST /builtins/{graph_name}': {'parameters': {'graph_name': {'default': '', 'max_count': 1, 'min_count': 0, 'type': 'STRING'}, 'realtime': {'default': 'false', 'max_count': 1, 'min_count': 0, 'type': 'BOOL'}}}, 'POST /ddl/{graph_name}': {'parameters': {'ack': {'default': 'all', 'max_count': 1, 'min_count': 1, 'options': ['all', 'none'], 'type': 'STRING'}, 'concise': {'default': 'false', 'max_count': 1, 'min_count': 1, 'type': 'BOOL'}, 'eol': {'default': '\\n', 'max_count': 1, 'max_length': 4, 'min_count': 0, 'min_length': 1, 'type': 'STRING'}, 'filename': {'default': '__GSQL_FILENAME__', 'max_count': 1, 'min_count': 0, 'type': 'STRING'}, 'graph_name': {'default': '', 'max_count': 1, 'min_count': 0, 'type': 'STRING'}, 'sep': {'default': ',', 'max_count': 1, 'max_length': 4, 'min_count': 0, 'min_length': 1, 'type': 'STRING'}, 'tag': {'max_count': 1, 'min_count': 1, 'type': 'STRING'}, 'timeout': {'default': '0', 'max_count': 1, 'min_count': 0, 'type': 'UINT32'}}}, 'POST /echo/{graph_name}': {'parameters': {'graph_name': {'default': '', 'max_count': 1, 'min_count': 0, 'type': 'STRING'}, 'sleep': {'default': '0', 'type': 'INT32'}}}, 'POST /graph/{graph_name}': {'parameters': {'ack': {'default': 'all', 'max_count': 1, 'min_count': 1, 'options': ['all', 'none'], 'type': 'STRING'}, 'graph_name': {'default': '', 'max_count': 1, 'min_count': 0, 'type': 'STRING'}, 'new_vertex_only': {'default': 'false', 'max_count': 1, 'min_count': 0, 'type': 'BOOL'}, 'vertex_must_exist': {'default': 'false', 'max_count': 1, 'min_count': 0, 'type': 'BOOL'}}}, 'POST /rebuildnow/{graph_name}': {'parameters': {'graph_name': {'default': '', 'max_count': 1, 'min_count': 0, 'type': 'STRING'}, 'path': {'default': '/tmp/rebuildnow', 'max_count': 1, 'min_count': 0, 'type': 'STRING'}, 'segid': {'min_count': 0, 'type': 'UINT32'}, 'threadnum': {'default': '0', 'max_count': 1, 'min_count': 0, 'type': 'UINT32'}, 'vertextype': {'max_count': 1, 'min_count': 0, 'type': 'TYPENAME'}}}, 'POST /restpploader/{graph_name}': {'parameters': {'abort': {'max_count': 1, 'min_count': 0, 'type': 'BOOL'}, 'checkstatus': {'max_count': 1, 'min_count': 0, 'type': 'BOOL'}, 'graph_name': {'default': '', 'max_count': 1, 'min_count': 0, 'type': 'STRING'}, 'resume': {'max_count': 1, 'min_count': 0, 'type': 'BOOL'}, 'showsummary': {'max_count': 1, 'min_count': 0, 'type': 'BOOL'}}}, 'POST /shortestpath/{graph_name}': {'parameters': {'graph_name': {'default': '', 'max_count': 1, 'min_count': 0, 'type': 'STRING'}}}, 'POST /showprocesslist/{graph_name}': {'parameters': {'graph_name': {'default': '', 'max_count': 1, 'min_count': 0, 'type': 'STRING'}}}}\n"
          ],
          "name": "stdout"
        }
      ]
    },
    {
      "cell_type": "code",
      "metadata": {
        "id": "OTZ7mFu1-O1L",
        "colab_type": "code",
        "outputId": "c463c1f8-e2e5-4a94-c28c-72d28121d84d",
        "colab": {
          "base_uri": "https://localhost:8080/",
          "height": 54
        }
      },
      "source": [
        "graph = tg.TigerGraphConnection(\n",
        "    ipAddress=\"https://covid19.i.tgcloud.io\", \n",
        "    graphname=\"MyGraph\", \n",
        "    apiToken=\"o4ib762mnvh26ih9ua2lb23ojvsb7toi\")\n",
        "\n",
        "results = graph.getEndpoints()\n",
        "print(results)"
      ],
      "execution_count": 0,
      "outputs": [
        {
          "output_type": "stream",
          "text": [
            "{'DELETE /graph/delete_by_type/vertices/{vertex_type}/': {'parameters': {'ack': {'default': 'all', 'max_count': 1, 'min_count': 1, 'options': ['all', 'none'], 'type': 'STRING'}, 'permanent': {'default': 'false', 'max_count': 1, 'min_count': 1, 'type': 'BOOL'}, 'vertex_type': {'type': 'TYPENAME'}}}, 'DELETE /graph/edges/{source_vertex_type}/{source_vertex_id}/{edge_type}/{target_vertex_type}/{target_vertex_id}': {'parameters': {'edge_type': {'max_count': 1, 'min_count': 0, 'type': 'EDGETYPENAME'}, 'filter': {'max_count': 1, 'max_length': 2560, 'min_count': 0, 'type': 'STRING'}, 'limit': {'max_count': 1, 'min_count': 0, 'type': 'UINT64'}, 'not_wildcard': {'max_count': 1, 'min_count': 0, 'type': 'BOOL'}, 'permanent': {'default': 'false', 'max_count': 1, 'min_count': 1, 'type': 'BOOL'}, 'select': {'max_count': 1, 'max_length': 2560, 'min_count': 0, 'type': 'STRING'}, 'sort': {'max_count': 1, 'max_length': 2560, 'min_count': 0, 'type': 'STRING'}, 'source_vertex_id': {'id_type': '$source_vertex_type', 'is_id': True, 'max_count': 1, 'max_length': 256, 'min_count': 1, 'type': 'STRING'}, 'source_vertex_type': {'max_count': 1, 'min_count': 1, 'type': 'TYPENAME'}, 'target_vertex_id': {'id_type': '$target_vertex_type', 'is_id': True, 'max_count': 1, 'max_length': 256, 'min_count': 0, 'type': 'STRING'}, 'target_vertex_type': {'max_count': 1, 'min_count': 0, 'type': 'TYPENAME'}, 'timeout': {'default': '0', 'max_count': 1, 'min_count': 0, 'type': 'UINT32'}}}, 'DELETE /graph/vertices/{vertex_type}/{vertex_id}': {'parameters': {'filter': {'max_count': 1, 'max_length': 2560, 'min_count': 0, 'type': 'STRING'}, 'limit': {'max_count': 1, 'min_count': 0, 'type': 'UINT64'}, 'permanent': {'default': 'false', 'max_count': 1, 'min_count': 1, 'type': 'BOOL'}, 'sort': {'max_count': 1, 'max_length': 2560, 'min_count': 0, 'type': 'STRING'}, 'timeout': {'default': '0', 'max_count': 1, 'min_count': 0, 'type': 'UINT32'}, 'vertex_id': {'id_type': '$vertex_type', 'is_id': True, 'max_count': 1, 'max_length': 2560, 'min_count': 0, 'type': 'STRING'}, 'vertex_type': {'type': 'TYPENAME'}}}, 'DELETE /graph/{graph_name}/delete_by_type/vertices/{vertex_type}/': {'parameters': {'ack': {'default': 'all', 'max_count': 1, 'min_count': 1, 'options': ['all', 'none'], 'type': 'STRING'}, 'graph_name': {'default': '', 'max_count': 1, 'min_count': 0, 'type': 'STRING'}, 'permanent': {'default': 'false', 'max_count': 1, 'min_count': 1, 'type': 'BOOL'}, 'vertex_type': {'type': 'TYPENAME'}}}, 'DELETE /graph/{graph_name}/edges/{source_vertex_type}/{source_vertex_id}/{edge_type}/{target_vertex_type}/{target_vertex_id}': {'parameters': {'edge_type': {'max_count': 1, 'min_count': 0, 'type': 'EDGETYPENAME'}, 'filter': {'max_count': 1, 'max_length': 2560, 'min_count': 0, 'type': 'STRING'}, 'graph_name': {'default': '', 'max_count': 1, 'min_count': 0, 'type': 'STRING'}, 'limit': {'max_count': 1, 'min_count': 0, 'type': 'UINT64'}, 'not_wildcard': {'max_count': 1, 'min_count': 0, 'type': 'BOOL'}, 'permanent': {'default': 'false', 'max_count': 1, 'min_count': 1, 'type': 'BOOL'}, 'select': {'max_count': 1, 'max_length': 2560, 'min_count': 0, 'type': 'STRING'}, 'sort': {'max_count': 1, 'max_length': 2560, 'min_count': 0, 'type': 'STRING'}, 'source_vertex_id': {'id_type': '$source_vertex_type', 'is_id': True, 'max_count': 1, 'max_length': 256, 'min_count': 1, 'type': 'STRING'}, 'source_vertex_type': {'max_count': 1, 'min_count': 1, 'type': 'TYPENAME'}, 'target_vertex_id': {'id_type': '$target_vertex_type', 'is_id': True, 'max_count': 1, 'max_length': 256, 'min_count': 0, 'type': 'STRING'}, 'target_vertex_type': {'max_count': 1, 'min_count': 0, 'type': 'TYPENAME'}, 'timeout': {'default': '0', 'max_count': 1, 'min_count': 0, 'type': 'UINT32'}}}, 'DELETE /graph/{graph_name}/vertices/{vertex_type}/{vertex_id}': {'parameters': {'filter': {'max_count': 1, 'max_length': 2560, 'min_count': 0, 'type': 'STRING'}, 'graph_name': {'default': '', 'max_count': 1, 'min_count': 0, 'type': 'STRING'}, 'limit': {'max_count': 1, 'min_count': 0, 'type': 'UINT64'}, 'permanent': {'default': 'false', 'max_count': 1, 'min_count': 1, 'type': 'BOOL'}, 'sort': {'max_count': 1, 'max_length': 2560, 'min_count': 0, 'type': 'STRING'}, 'timeout': {'default': '0', 'max_count': 1, 'min_count': 0, 'type': 'UINT32'}, 'vertex_id': {'id_type': '$vertex_type', 'is_id': True, 'max_count': 1, 'max_length': 2560, 'min_count': 0, 'type': 'STRING'}, 'vertex_type': {'type': 'TYPENAME'}}}, 'GET /abortquery/{graph_name}': {'parameters': {'graph_name': {'default': '', 'max_count': 1, 'min_count': 0, 'type': 'STRING'}, 'requestid': {'min_count': 0, 'type': 'STRING'}}}, 'GET /allpaths/{graph_name}': {'parameters': {'graph_name': {'default': '', 'max_count': 1, 'min_count': 0, 'type': 'STRING'}}}, 'GET /echo/{graph_name}': {'parameters': {'graph_name': {'default': '', 'max_count': 1, 'min_count': 0, 'type': 'STRING'}, 'sleep': {'default': '0', 'type': 'INT32'}}}, 'GET /endpoints/{graph_name}': {'parameters': {'builtin': {'default': 'false', 'max_count': 1, 'min_count': 0, 'type': 'BOOL'}, 'dynamic': {'default': 'false', 'max_count': 1, 'min_count': 0, 'type': 'BOOL'}, 'graph_name': {'default': '', 'max_count': 1, 'min_count': 0, 'type': 'STRING'}, 'static': {'default': 'false', 'max_count': 1, 'min_count': 0, 'type': 'BOOL'}}}, 'GET /graph/edges/{source_vertex_type}/{source_vertex_id}/{edge_type}/{target_vertex_type}/{target_vertex_id}': {'parameters': {'count_only': {'default': 'false', 'max_count': 1, 'min_count': 0, 'type': 'BOOL'}, 'edge_type': {'max_count': 1, 'min_count': 0, 'type': 'EDGETYPENAME'}, 'filter': {'max_count': 1, 'max_length': 2560, 'min_count': 0, 'type': 'STRING'}, 'limit': {'max_count': 1, 'min_count': 0, 'type': 'UINT64'}, 'not_wildcard': {'max_count': 1, 'min_count': 0, 'type': 'BOOL'}, 'select': {'max_count': 1, 'max_length': 2560, 'min_count': 0, 'type': 'STRING'}, 'sort': {'max_count': 1, 'max_length': 2560, 'min_count': 0, 'type': 'STRING'}, 'source_vertex_id': {'id_type': '$source_vertex_type', 'is_id': True, 'max_count': 1, 'max_length': 256, 'min_count': 1, 'type': 'STRING'}, 'source_vertex_type': {'max_count': 1, 'min_count': 1, 'type': 'TYPENAME'}, 'target_vertex_id': {'id_type': '$target_vertex_type', 'is_id': True, 'max_count': 1, 'max_length': 256, 'min_count': 0, 'type': 'STRING'}, 'target_vertex_type': {'max_count': 1, 'min_count': 0, 'type': 'TYPENAME'}, 'timeout': {'default': '0', 'max_count': 1, 'min_count': 0, 'type': 'UINT32'}}}, 'GET /graph/vertices/{vertex_type}/{vertex_id}': {'parameters': {'count_only': {'default': 'false', 'max_count': 1, 'min_count': 0, 'type': 'BOOL'}, 'filter': {'max_count': 1, 'max_length': 2560, 'min_count': 0, 'type': 'STRING'}, 'limit': {'max_count': 1, 'min_count': 0, 'type': 'UINT64'}, 'select': {'max_count': 1, 'max_length': 2560, 'min_count': 0, 'type': 'STRING'}, 'sort': {'max_count': 1, 'max_length': 2560, 'min_count': 0, 'type': 'STRING'}, 'timeout': {'default': '0', 'max_count': 1, 'min_count': 0, 'type': 'UINT32'}, 'vertex_id': {'id_type': '$vertex_type', 'is_id': True, 'max_count': 1, 'max_length': 2560, 'min_count': 0, 'type': 'STRING'}, 'vertex_type': {'type': 'TYPENAME'}}}, 'GET /graph/{graph_name}/edges/{source_vertex_type}/{source_vertex_id}/{edge_type}/{target_vertex_type}/{target_vertex_id}': {'parameters': {'count_only': {'default': 'false', 'max_count': 1, 'min_count': 0, 'type': 'BOOL'}, 'edge_type': {'max_count': 1, 'min_count': 0, 'type': 'EDGETYPENAME'}, 'filter': {'max_count': 1, 'max_length': 2560, 'min_count': 0, 'type': 'STRING'}, 'graph_name': {'default': '', 'max_count': 1, 'min_count': 0, 'type': 'STRING'}, 'limit': {'max_count': 1, 'min_count': 0, 'type': 'UINT64'}, 'not_wildcard': {'max_count': 1, 'min_count': 0, 'type': 'BOOL'}, 'select': {'max_count': 1, 'max_length': 2560, 'min_count': 0, 'type': 'STRING'}, 'sort': {'max_count': 1, 'max_length': 2560, 'min_count': 0, 'type': 'STRING'}, 'source_vertex_id': {'id_type': '$source_vertex_type', 'is_id': True, 'max_count': 1, 'max_length': 256, 'min_count': 1, 'type': 'STRING'}, 'source_vertex_type': {'max_count': 1, 'min_count': 1, 'type': 'TYPENAME'}, 'target_vertex_id': {'id_type': '$target_vertex_type', 'is_id': True, 'max_count': 1, 'max_length': 256, 'min_count': 0, 'type': 'STRING'}, 'target_vertex_type': {'max_count': 1, 'min_count': 0, 'type': 'TYPENAME'}, 'timeout': {'default': '0', 'max_count': 1, 'min_count': 0, 'type': 'UINT32'}}}, 'GET /graph/{graph_name}/vertices/{vertex_type}/{vertex_id}': {'parameters': {'count_only': {'default': 'false', 'max_count': 1, 'min_count': 0, 'type': 'BOOL'}, 'filter': {'max_count': 1, 'max_length': 2560, 'min_count': 0, 'type': 'STRING'}, 'graph_name': {'default': '', 'max_count': 1, 'min_count': 0, 'type': 'STRING'}, 'limit': {'max_count': 1, 'min_count': 0, 'type': 'UINT64'}, 'select': {'max_count': 1, 'max_length': 2560, 'min_count': 0, 'type': 'STRING'}, 'sort': {'max_count': 1, 'max_length': 2560, 'min_count': 0, 'type': 'STRING'}, 'timeout': {'default': '0', 'max_count': 1, 'min_count': 0, 'type': 'UINT32'}, 'vertex_id': {'id_type': '$vertex_type', 'is_id': True, 'max_count': 1, 'max_length': 2560, 'min_count': 0, 'type': 'STRING'}, 'vertex_type': {'type': 'TYPENAME'}}}, 'GET /rebuildnow/{graph_name}': {'parameters': {'graph_name': {'default': '', 'max_count': 1, 'min_count': 0, 'type': 'STRING'}, 'path': {'default': '/tmp/rebuildnow', 'max_count': 1, 'min_count': 0, 'type': 'STRING'}, 'segid': {'min_count': 0, 'type': 'UINT32'}, 'threadnum': {'default': '0', 'max_count': 1, 'min_count': 0, 'type': 'UINT32'}, 'vertextype': {'max_count': 1, 'min_count': 0, 'type': 'TYPENAME'}}}, 'GET /shortestpath/{graph_name}': {'parameters': {'graph_name': {'default': '', 'max_count': 1, 'min_count': 0, 'type': 'STRING'}}}, 'GET /showlicenseinfo/{graph_name}': {'parameters': {'graph_name': {'default': '', 'max_count': 1, 'min_count': 0, 'type': 'STRING'}}}, 'GET /showprocesslist/{graph_name}': {'parameters': {'graph_name': {'default': '', 'max_count': 1, 'min_count': 0, 'type': 'STRING'}}}, 'GET /statistics/{graph_name}': {'parameters': {'graph_name': {'default': '', 'max_count': 1, 'min_count': 0, 'type': 'STRING'}, 'seconds': {'default': '10', 'type': 'UINT32'}, 'segments': {'default': '10', 'max': '100', 'min': '1', 'type': 'UINT32'}}}, 'GET /version/{graph_name}': {'parameters': {'graph_name': {'default': '', 'max_count': 1, 'min_count': 0, 'type': 'STRING'}}}, 'POST /abortquery/{graph_name}': {'parameters': {'graph_name': {'default': '', 'max_count': 1, 'min_count': 0, 'type': 'STRING'}, 'requestid': {'min_count': 0, 'type': 'STRING'}}}, 'POST /allpaths/{graph_name}': {'parameters': {'graph_name': {'default': '', 'max_count': 1, 'min_count': 0, 'type': 'STRING'}}}, 'POST /builtins/{graph_name}': {'parameters': {'graph_name': {'default': '', 'max_count': 1, 'min_count': 0, 'type': 'STRING'}, 'realtime': {'default': 'false', 'max_count': 1, 'min_count': 0, 'type': 'BOOL'}}}, 'POST /ddl/{graph_name}': {'parameters': {'ack': {'default': 'all', 'max_count': 1, 'min_count': 1, 'options': ['all', 'none'], 'type': 'STRING'}, 'concise': {'default': 'false', 'max_count': 1, 'min_count': 1, 'type': 'BOOL'}, 'eol': {'default': '\\n', 'max_count': 1, 'max_length': 4, 'min_count': 0, 'min_length': 1, 'type': 'STRING'}, 'filename': {'default': '__GSQL_FILENAME__', 'max_count': 1, 'min_count': 0, 'type': 'STRING'}, 'graph_name': {'default': '', 'max_count': 1, 'min_count': 0, 'type': 'STRING'}, 'sep': {'default': ',', 'max_count': 1, 'max_length': 4, 'min_count': 0, 'min_length': 1, 'type': 'STRING'}, 'tag': {'max_count': 1, 'min_count': 1, 'type': 'STRING'}, 'timeout': {'default': '0', 'max_count': 1, 'min_count': 0, 'type': 'UINT32'}}}, 'POST /echo/{graph_name}': {'parameters': {'graph_name': {'default': '', 'max_count': 1, 'min_count': 0, 'type': 'STRING'}, 'sleep': {'default': '0', 'type': 'INT32'}}}, 'POST /graph/{graph_name}': {'parameters': {'ack': {'default': 'all', 'max_count': 1, 'min_count': 1, 'options': ['all', 'none'], 'type': 'STRING'}, 'graph_name': {'default': '', 'max_count': 1, 'min_count': 0, 'type': 'STRING'}, 'new_vertex_only': {'default': 'false', 'max_count': 1, 'min_count': 0, 'type': 'BOOL'}, 'vertex_must_exist': {'default': 'false', 'max_count': 1, 'min_count': 0, 'type': 'BOOL'}}}, 'POST /rebuildnow/{graph_name}': {'parameters': {'graph_name': {'default': '', 'max_count': 1, 'min_count': 0, 'type': 'STRING'}, 'path': {'default': '/tmp/rebuildnow', 'max_count': 1, 'min_count': 0, 'type': 'STRING'}, 'segid': {'min_count': 0, 'type': 'UINT32'}, 'threadnum': {'default': '0', 'max_count': 1, 'min_count': 0, 'type': 'UINT32'}, 'vertextype': {'max_count': 1, 'min_count': 0, 'type': 'TYPENAME'}}}, 'POST /restpploader/{graph_name}': {'parameters': {'abort': {'max_count': 1, 'min_count': 0, 'type': 'BOOL'}, 'checkstatus': {'max_count': 1, 'min_count': 0, 'type': 'BOOL'}, 'graph_name': {'default': '', 'max_count': 1, 'min_count': 0, 'type': 'STRING'}, 'resume': {'max_count': 1, 'min_count': 0, 'type': 'BOOL'}, 'showsummary': {'max_count': 1, 'min_count': 0, 'type': 'BOOL'}}}, 'POST /shortestpath/{graph_name}': {'parameters': {'graph_name': {'default': '', 'max_count': 1, 'min_count': 0, 'type': 'STRING'}}}, 'POST /showprocesslist/{graph_name}': {'parameters': {'graph_name': {'default': '', 'max_count': 1, 'min_count': 0, 'type': 'STRING'}}}}\n"
          ],
          "name": "stdout"
        }
      ]
    },
    {
      "cell_type": "code",
      "metadata": {
        "id": "LiSLXcfU-gv0",
        "colab_type": "code",
        "colab": {}
      },
      "source": [
        "graph = tg.TigerGraphConnection(\n",
        "    ipAddress=\"https://covid19.i.tgcloud.io\", \n",
        "    graphname=\"MyGraph\", \n",
        "    apiToken=\"o4ib762mnvh26ih9ua2lb23ojvsb7toi\")\n",
        "\n",
        "results = graph.getVertices(\"Geo\")\n",
        "print (results)\n"
      ],
      "execution_count": 0,
      "outputs": []
    }
  ]
}